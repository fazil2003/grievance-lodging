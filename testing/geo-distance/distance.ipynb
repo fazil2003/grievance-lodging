{
 "cells": [
  {
   "cell_type": "code",
   "execution_count": 1,
   "metadata": {},
   "outputs": [
    {
     "name": "stdout",
     "output_type": "stream",
     "text": [
      "Collecting geopy\n",
      "  Downloading geopy-2.4.1-py3-none-any.whl (125 kB)\n",
      "                                              0.0/125.4 kB ? eta -:--:--\n",
      "     -------------------------------------- 125.4/125.4 kB 7.7 MB/s eta 0:00:00\n",
      "Collecting geographiclib<3,>=1.52 (from geopy)\n",
      "  Downloading geographiclib-2.0-py3-none-any.whl (40 kB)\n",
      "                                              0.0/40.3 kB ? eta -:--:--\n",
      "     ---------------------------------------- 40.3/40.3 kB ? eta 0:00:00\n",
      "Installing collected packages: geographiclib, geopy\n",
      "Successfully installed geographiclib-2.0 geopy-2.4.1\n"
     ]
    },
    {
     "name": "stderr",
     "output_type": "stream",
     "text": [
      "\n",
      "[notice] A new release of pip is available: 23.1.2 -> 24.0\n",
      "[notice] To update, run: python.exe -m pip install --upgrade pip\n"
     ]
    }
   ],
   "source": [
    "!pip install geopy"
   ]
  },
  {
   "cell_type": "code",
   "execution_count": 2,
   "metadata": {},
   "outputs": [
    {
     "name": "stdout",
     "output_type": "stream",
     "text": [
      "The distance between Mumbai and Pune is:  120.13816971268406\n"
     ]
    }
   ],
   "source": [
    "from geopy.distance import geodesic as GD\n",
    " \n",
    "Mumbai =(19.0760, 72.8777)\n",
    "Pune =(18.5204, 73.8567)\n",
    " \n",
    "print(\"The distance between Mumbai and Pune is: \", GD(Mumbai,Pune).km)"
   ]
  },
  {
   "cell_type": "code",
   "execution_count": 4,
   "metadata": {},
   "outputs": [
    {
     "name": "stdout",
     "output_type": "stream",
     "text": [
      "CHC, Gosainganj, Sultanpur Road, अमेठी, Mohanlalganj, Lucknow District, Uttar Pradesh, 227125, India\n",
      "Latitude =  26.7652312\n",
      "Longitude =  81.1196719\n"
     ]
    }
   ],
   "source": [
    "# importing geopy library\n",
    "from geopy.geocoders import Nominatim\n",
    " \n",
    "# calling the Nominatim tool\n",
    "loc = Nominatim(user_agent=\"GetLoc\")\n",
    " \n",
    "# entering the location name\n",
    "getLoc = loc.geocode(\"Gosainganj Lucknow\")\n",
    " \n",
    "# printing address\n",
    "print(getLoc.address)\n",
    " \n",
    "# printing latitude and longitude\n",
    "print(\"Latitude = \", getLoc.latitude)\n",
    "print(\"Longitude = \", getLoc.longitude)"
   ]
  }
 ],
 "metadata": {
  "kernelspec": {
   "display_name": "Python 3",
   "language": "python",
   "name": "python3"
  },
  "language_info": {
   "codemirror_mode": {
    "name": "ipython",
    "version": 3
   },
   "file_extension": ".py",
   "mimetype": "text/x-python",
   "name": "python",
   "nbconvert_exporter": "python",
   "pygments_lexer": "ipython3",
   "version": "3.11.4"
  }
 },
 "nbformat": 4,
 "nbformat_minor": 2
}

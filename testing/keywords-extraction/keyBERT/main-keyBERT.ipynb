{
 "cells": [
  {
   "cell_type": "code",
   "execution_count": 2,
   "metadata": {},
   "outputs": [
    {
     "name": "stdout",
     "output_type": "stream",
     "text": [
      "Requirement already satisfied: keybert in d:\\softwares\\python311\\lib\\site-packages (0.8.3)\n",
      "Requirement already satisfied: sentence-transformers>=0.3.8 in d:\\softwares\\python311\\lib\\site-packages (from keybert) (2.2.2)\n",
      "Requirement already satisfied: scikit-learn>=0.22.2 in d:\\softwares\\python311\\lib\\site-packages (from keybert) (1.3.0)\n",
      "Requirement already satisfied: numpy>=1.18.5 in d:\\softwares\\python311\\lib\\site-packages (from keybert) (1.25.2)\n",
      "Requirement already satisfied: rich>=10.4.0 in d:\\softwares\\python311\\lib\\site-packages (from keybert) (13.7.0)\n",
      "Requirement already satisfied: markdown-it-py>=2.2.0 in d:\\softwares\\python311\\lib\\site-packages (from rich>=10.4.0->keybert) (3.0.0)\n",
      "Requirement already satisfied: pygments<3.0.0,>=2.13.0 in c:\\users\\mohamed fazil z\\appdata\\roaming\\python\\python311\\site-packages (from rich>=10.4.0->keybert) (2.16.0)\n",
      "Requirement already satisfied: scipy>=1.5.0 in d:\\softwares\\python311\\lib\\site-packages (from scikit-learn>=0.22.2->keybert) (1.11.1)\n",
      "Requirement already satisfied: joblib>=1.1.1 in d:\\softwares\\python311\\lib\\site-packages (from scikit-learn>=0.22.2->keybert) (1.3.1)\n",
      "Requirement already satisfied: threadpoolctl>=2.0.0 in d:\\softwares\\python311\\lib\\site-packages (from scikit-learn>=0.22.2->keybert) (3.2.0)\n",
      "Requirement already satisfied: transformers<5.0.0,>=4.6.0 in d:\\softwares\\python311\\lib\\site-packages (from sentence-transformers>=0.3.8->keybert) (4.36.2)\n",
      "Requirement already satisfied: tqdm in d:\\softwares\\python311\\lib\\site-packages (from sentence-transformers>=0.3.8->keybert) (4.66.1)\n",
      "Requirement already satisfied: torch>=1.6.0 in d:\\softwares\\python311\\lib\\site-packages (from sentence-transformers>=0.3.8->keybert) (2.1.2)\n",
      "Requirement already satisfied: torchvision in d:\\softwares\\python311\\lib\\site-packages (from sentence-transformers>=0.3.8->keybert) (0.16.2)\n",
      "Requirement already satisfied: nltk in d:\\softwares\\python311\\lib\\site-packages (from sentence-transformers>=0.3.8->keybert) (3.8.1)\n",
      "Requirement already satisfied: sentencepiece in d:\\softwares\\python311\\lib\\site-packages (from sentence-transformers>=0.3.8->keybert) (0.1.99)\n",
      "Requirement already satisfied: huggingface-hub>=0.4.0 in d:\\softwares\\python311\\lib\\site-packages (from sentence-transformers>=0.3.8->keybert) (0.20.2)\n",
      "Requirement already satisfied: filelock in d:\\softwares\\python311\\lib\\site-packages (from huggingface-hub>=0.4.0->sentence-transformers>=0.3.8->keybert) (3.13.1)\n",
      "Requirement already satisfied: fsspec>=2023.5.0 in d:\\softwares\\python311\\lib\\site-packages (from huggingface-hub>=0.4.0->sentence-transformers>=0.3.8->keybert) (2023.12.2)\n",
      "Requirement already satisfied: requests in d:\\softwares\\python311\\lib\\site-packages (from huggingface-hub>=0.4.0->sentence-transformers>=0.3.8->keybert) (2.31.0)\n",
      "Requirement already satisfied: pyyaml>=5.1 in d:\\softwares\\python311\\lib\\site-packages (from huggingface-hub>=0.4.0->sentence-transformers>=0.3.8->keybert) (6.0.1)\n",
      "Requirement already satisfied: typing-extensions>=3.7.4.3 in d:\\softwares\\python311\\lib\\site-packages (from huggingface-hub>=0.4.0->sentence-transformers>=0.3.8->keybert) (4.7.1)\n",
      "Requirement already satisfied: packaging>=20.9 in d:\\softwares\\python311\\lib\\site-packages (from huggingface-hub>=0.4.0->sentence-transformers>=0.3.8->keybert) (23.1)\n",
      "Requirement already satisfied: mdurl~=0.1 in d:\\softwares\\python311\\lib\\site-packages (from markdown-it-py>=2.2.0->rich>=10.4.0->keybert) (0.1.2)\n",
      "Requirement already satisfied: sympy in d:\\softwares\\python311\\lib\\site-packages (from torch>=1.6.0->sentence-transformers>=0.3.8->keybert) (1.12)\n",
      "Requirement already satisfied: networkx in d:\\softwares\\python311\\lib\\site-packages (from torch>=1.6.0->sentence-transformers>=0.3.8->keybert) (3.2.1)\n",
      "Requirement already satisfied: jinja2 in d:\\softwares\\python311\\lib\\site-packages (from torch>=1.6.0->sentence-transformers>=0.3.8->keybert) (3.1.2)\n",
      "Requirement already satisfied: colorama in c:\\users\\mohamed fazil z\\appdata\\roaming\\python\\python311\\site-packages (from tqdm->sentence-transformers>=0.3.8->keybert) (0.4.6)\n",
      "Requirement already satisfied: regex!=2019.12.17 in d:\\softwares\\python311\\lib\\site-packages (from transformers<5.0.0,>=4.6.0->sentence-transformers>=0.3.8->keybert) (2023.12.25)\n",
      "Requirement already satisfied: tokenizers<0.19,>=0.14 in d:\\softwares\\python311\\lib\\site-packages (from transformers<5.0.0,>=4.6.0->sentence-transformers>=0.3.8->keybert) (0.15.0)\n",
      "Requirement already satisfied: safetensors>=0.3.1 in d:\\softwares\\python311\\lib\\site-packages (from transformers<5.0.0,>=4.6.0->sentence-transformers>=0.3.8->keybert) (0.4.1)\n",
      "Requirement already satisfied: click in d:\\softwares\\python311\\lib\\site-packages (from nltk->sentence-transformers>=0.3.8->keybert) (8.1.7)\n",
      "Requirement already satisfied: pillow!=8.3.*,>=5.3.0 in d:\\softwares\\python311\\lib\\site-packages (from torchvision->sentence-transformers>=0.3.8->keybert) (10.0.0)\n",
      "Requirement already satisfied: MarkupSafe>=2.0 in d:\\softwares\\python311\\lib\\site-packages (from jinja2->torch>=1.6.0->sentence-transformers>=0.3.8->keybert) (2.1.3)\n",
      "Requirement already satisfied: charset-normalizer<4,>=2 in d:\\softwares\\python311\\lib\\site-packages (from requests->huggingface-hub>=0.4.0->sentence-transformers>=0.3.8->keybert) (3.3.2)\n",
      "Requirement already satisfied: idna<4,>=2.5 in d:\\softwares\\python311\\lib\\site-packages (from requests->huggingface-hub>=0.4.0->sentence-transformers>=0.3.8->keybert) (3.4)\n",
      "Requirement already satisfied: urllib3<3,>=1.21.1 in d:\\softwares\\python311\\lib\\site-packages (from requests->huggingface-hub>=0.4.0->sentence-transformers>=0.3.8->keybert) (2.0.7)\n",
      "Requirement already satisfied: certifi>=2017.4.17 in d:\\softwares\\python311\\lib\\site-packages (from requests->huggingface-hub>=0.4.0->sentence-transformers>=0.3.8->keybert) (2023.7.22)\n",
      "Requirement already satisfied: mpmath>=0.19 in d:\\softwares\\python311\\lib\\site-packages (from sympy->torch>=1.6.0->sentence-transformers>=0.3.8->keybert) (1.3.0)\n"
     ]
    },
    {
     "name": "stderr",
     "output_type": "stream",
     "text": [
      "\n",
      "[notice] A new release of pip is available: 23.1.2 -> 23.3.2\n",
      "[notice] To update, run: python.exe -m pip install --upgrade pip\n"
     ]
    }
   ],
   "source": [
    "!pip install keybert"
   ]
  },
  {
   "cell_type": "code",
   "execution_count": 1,
   "metadata": {},
   "outputs": [
    {
     "name": "stderr",
     "output_type": "stream",
     "text": [
      "d:\\Softwares\\Python311\\Lib\\site-packages\\tqdm\\auto.py:21: TqdmWarning: IProgress not found. Please update jupyter and ipywidgets. See https://ipywidgets.readthedocs.io/en/stable/user_install.html\n",
      "  from .autonotebook import tqdm as notebook_tqdm\n"
     ]
    }
   ],
   "source": [
    "from keybert import KeyBERT\n",
    "\n",
    "doc = \"\"\"\n",
    "         1 strong punishmnt cn prevent a lot of crimes in future.Let THIS b the one for minor driving. #JusticeForSidd @DelhiPolice @DCP_North_Delhi\n",
    "      \"\"\"\n",
    "kw_model = KeyBERT()\n",
    "keywords = kw_model.extract_keywords(doc)"
   ]
  },
  {
   "cell_type": "code",
   "execution_count": 9,
   "metadata": {},
   "outputs": [
    {
     "data": {
      "text/plain": [
       "[('justiceforsidd', 0.468),\n",
       " ('dcp_north_delhi', 0.4574),\n",
       " ('delhipolice', 0.4474),\n",
       " ('crimes', 0.3698),\n",
       " ('minor', 0.315)]"
      ]
     },
     "execution_count": 9,
     "metadata": {},
     "output_type": "execute_result"
    }
   ],
   "source": [
    "kw_model.extract_keywords(doc, keyphrase_ngram_range=(1, 1), stop_words=None)"
   ]
  },
  {
   "cell_type": "code",
   "execution_count": 10,
   "metadata": {},
   "outputs": [
    {
     "data": {
      "text/plain": [
       "[('justiceforsidd delhipolice', 0.6537),\n",
       " ('driving justiceforsidd', 0.5812),\n",
       " ('justiceforsidd', 0.468),\n",
       " ('dcp_north_delhi', 0.4574),\n",
       " ('delhipolice dcp_north_delhi', 0.4555)]"
      ]
     },
     "execution_count": 10,
     "metadata": {},
     "output_type": "execute_result"
    }
   ],
   "source": [
    "kw_model.extract_keywords(doc, keyphrase_ngram_range=(1, 2), stop_words=None)"
   ]
  },
  {
   "cell_type": "code",
   "execution_count": 11,
   "metadata": {},
   "outputs": [
    {
     "data": {
      "text/html": [
       "<pre style=\"white-space:pre;overflow-x:auto;line-height:normal;font-family:Menlo,'DejaVu Sans Mono',consolas,'Courier New',monospace\">strong punishmnt cn prevent lot of <span style=\"color: #000000; text-decoration-color: #000000; background-color: #ffff00\">crimes</span> in future Let THIS the one for <span style=\"color: #000000; text-decoration-color: #000000; background-color: #ffff00\">minor</span> driving <span style=\"color: #000000; text-decoration-color: #000000; background-color: #ffff00\">JusticeForSidd</span> <span style=\"color: #000000; text-decoration-color: #000000; background-color: #ffff00\">DelhiPolice</span> \n",
       "<span style=\"color: #000000; text-decoration-color: #000000; background-color: #ffff00\">DCP_North_Delhi</span>\n",
       "</pre>\n"
      ],
      "text/plain": [
       "strong punishmnt cn prevent lot of \u001b[30;48;2;255;255;0mcrimes\u001b[0m in future Let THIS the one for \u001b[30;48;2;255;255;0mminor\u001b[0m driving \u001b[30;48;2;255;255;0mJusticeForSidd\u001b[0m \u001b[30;48;2;255;255;0mDelhiPolice\u001b[0m \n",
       "\u001b[30;48;2;255;255;0mDCP_North_Delhi\u001b[0m\n"
      ]
     },
     "metadata": {},
     "output_type": "display_data"
    }
   ],
   "source": [
    "keywords = kw_model.extract_keywords(doc, highlight=True)"
   ]
  },
  {
   "cell_type": "markdown",
   "metadata": {},
   "source": [
    "### Max Sum Distance"
   ]
  },
  {
   "cell_type": "code",
   "execution_count": 12,
   "metadata": {},
   "outputs": [
    {
     "data": {
      "text/plain": [
       "[('cn prevent lot', 0.2739),\n",
       " ('strong punishmnt cn', 0.4122),\n",
       " ('lot crimes future', 0.4293),\n",
       " ('let minor driving', 0.5103),\n",
       " ('justiceforsidd delhipolice dcp_north_delhi', 0.6555)]"
      ]
     },
     "execution_count": 12,
     "metadata": {},
     "output_type": "execute_result"
    }
   ],
   "source": [
    "kw_model.extract_keywords(doc, keyphrase_ngram_range=(3, 3), stop_words='english', use_maxsum=True, nr_candidates=20, top_n=5)"
   ]
  },
  {
   "cell_type": "markdown",
   "metadata": {},
   "source": [
    "### Maximal Marginal Relevance"
   ]
  },
  {
   "cell_type": "code",
   "execution_count": 13,
   "metadata": {},
   "outputs": [
    {
     "data": {
      "text/plain": [
       "[('driving justiceforsidd delhipolice', 0.7207),\n",
       " ('lot crimes future', 0.4293),\n",
       " ('strong punishmnt cn', 0.4122),\n",
       " ('future let minor', 0.4055),\n",
       " ('cn prevent lot', 0.2739)]"
      ]
     },
     "execution_count": 13,
     "metadata": {},
     "output_type": "execute_result"
    }
   ],
   "source": [
    "kw_model.extract_keywords(doc, keyphrase_ngram_range=(3, 3), stop_words='english', use_mmr=True, diversity=0.7)"
   ]
  },
  {
   "cell_type": "markdown",
   "metadata": {},
   "source": [
    "The results with low diversity"
   ]
  },
  {
   "cell_type": "code",
   "execution_count": 14,
   "metadata": {},
   "outputs": [
    {
     "data": {
      "text/plain": [
       "[('driving justiceforsidd delhipolice', 0.7207),\n",
       " ('justiceforsidd delhipolice dcp_north_delhi', 0.6555),\n",
       " ('minor driving justiceforsidd', 0.6503),\n",
       " ('crimes future let', 0.5091),\n",
       " ('punishmnt cn prevent', 0.4697)]"
      ]
     },
     "execution_count": 14,
     "metadata": {},
     "output_type": "execute_result"
    }
   ],
   "source": [
    "kw_model.extract_keywords(doc, keyphrase_ngram_range=(3, 3), stop_words='english', use_mmr=True, diversity=0.2)"
   ]
  }
 ],
 "metadata": {
  "kernelspec": {
   "display_name": "Python 3",
   "language": "python",
   "name": "python3"
  },
  "language_info": {
   "codemirror_mode": {
    "name": "ipython",
    "version": 3
   },
   "file_extension": ".py",
   "mimetype": "text/x-python",
   "name": "python",
   "nbconvert_exporter": "python",
   "pygments_lexer": "ipython3",
   "version": "3.11.4"
  }
 },
 "nbformat": 4,
 "nbformat_minor": 2
}

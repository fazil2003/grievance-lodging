{
 "cells": [
  {
   "cell_type": "code",
   "execution_count": 1,
   "metadata": {},
   "outputs": [
    {
     "name": "stdout",
     "output_type": "stream",
     "text": [
      "Collecting git+https://github.com/UKPLab/sentence-transformers"
     ]
    },
    {
     "name": "stderr",
     "output_type": "stream",
     "text": [
      "  Running command git clone --filter=blob:none --quiet https://github.com/UKPLab/sentence-transformers 'C:\\Users\\Mohamed Fazil Z\\AppData\\Local\\Temp\\pip-req-build-rq2ru_o6'\n",
      "\n",
      "[notice] A new release of pip is available: 23.1.2 -> 24.0\n",
      "[notice] To update, run: python.exe -m pip install --upgrade pip\n"
     ]
    },
    {
     "name": "stdout",
     "output_type": "stream",
     "text": [
      "\n",
      "  Cloning https://github.com/UKPLab/sentence-transformers to c:\\users\\mohamed fazil z\\appdata\\local\\temp\\pip-req-build-rq2ru_o6\n",
      "  Resolved https://github.com/UKPLab/sentence-transformers to commit 94e51b3bff2cfcb82ed3525c466bdf992cbf21cb\n",
      "  Installing build dependencies: started\n",
      "  Installing build dependencies: finished with status 'done'\n",
      "  Getting requirements to build wheel: started\n",
      "  Getting requirements to build wheel: finished with status 'done'\n",
      "  Preparing metadata (pyproject.toml): started\n",
      "  Preparing metadata (pyproject.toml): finished with status 'done'\n",
      "Requirement already satisfied: transformers<5.0.0,>=4.32.0 in d:\\softwares\\python311\\lib\\site-packages (from sentence-transformers==2.4.0.dev0) (4.38.0.dev0)\n",
      "Requirement already satisfied: tqdm in d:\\softwares\\python311\\lib\\site-packages (from sentence-transformers==2.4.0.dev0) (4.66.1)\n",
      "Requirement already satisfied: torch>=1.11.0 in d:\\softwares\\python311\\lib\\site-packages (from sentence-transformers==2.4.0.dev0) (2.1.2)\n",
      "Requirement already satisfied: numpy in d:\\softwares\\python311\\lib\\site-packages (from sentence-transformers==2.4.0.dev0) (1.25.2)\n",
      "Requirement already satisfied: scikit-learn in d:\\softwares\\python311\\lib\\site-packages (from sentence-transformers==2.4.0.dev0) (1.3.0)\n",
      "Requirement already satisfied: scipy in d:\\softwares\\python311\\lib\\site-packages (from sentence-transformers==2.4.0.dev0) (1.11.1)\n",
      "Requirement already satisfied: huggingface-hub>=0.15.1 in d:\\softwares\\python311\\lib\\site-packages (from sentence-transformers==2.4.0.dev0) (0.20.2)\n",
      "Requirement already satisfied: Pillow in d:\\softwares\\python311\\lib\\site-packages (from sentence-transformers==2.4.0.dev0) (10.0.0)\n",
      "Requirement already satisfied: filelock in d:\\softwares\\python311\\lib\\site-packages (from huggingface-hub>=0.15.1->sentence-transformers==2.4.0.dev0) (3.13.1)\n",
      "Requirement already satisfied: fsspec>=2023.5.0 in d:\\softwares\\python311\\lib\\site-packages (from huggingface-hub>=0.15.1->sentence-transformers==2.4.0.dev0) (2023.12.2)\n",
      "Requirement already satisfied: requests in d:\\softwares\\python311\\lib\\site-packages (from huggingface-hub>=0.15.1->sentence-transformers==2.4.0.dev0) (2.31.0)\n",
      "Requirement already satisfied: pyyaml>=5.1 in d:\\softwares\\python311\\lib\\site-packages (from huggingface-hub>=0.15.1->sentence-transformers==2.4.0.dev0) (6.0.1)\n",
      "Requirement already satisfied: typing-extensions>=3.7.4.3 in d:\\softwares\\python311\\lib\\site-packages (from huggingface-hub>=0.15.1->sentence-transformers==2.4.0.dev0) (4.7.1)\n",
      "Requirement already satisfied: packaging>=20.9 in d:\\softwares\\python311\\lib\\site-packages (from huggingface-hub>=0.15.1->sentence-transformers==2.4.0.dev0) (23.1)\n",
      "Requirement already satisfied: sympy in d:\\softwares\\python311\\lib\\site-packages (from torch>=1.11.0->sentence-transformers==2.4.0.dev0) (1.12)\n",
      "Requirement already satisfied: networkx in d:\\softwares\\python311\\lib\\site-packages (from torch>=1.11.0->sentence-transformers==2.4.0.dev0) (3.2.1)\n",
      "Requirement already satisfied: jinja2 in d:\\softwares\\python311\\lib\\site-packages (from torch>=1.11.0->sentence-transformers==2.4.0.dev0) (3.1.2)\n",
      "Requirement already satisfied: colorama in c:\\users\\mohamed fazil z\\appdata\\roaming\\python\\python311\\site-packages (from tqdm->sentence-transformers==2.4.0.dev0) (0.4.6)\n",
      "Requirement already satisfied: regex!=2019.12.17 in d:\\softwares\\python311\\lib\\site-packages (from transformers<5.0.0,>=4.32.0->sentence-transformers==2.4.0.dev0) (2023.12.25)\n",
      "Requirement already satisfied: tokenizers<0.19,>=0.14 in d:\\softwares\\python311\\lib\\site-packages (from transformers<5.0.0,>=4.32.0->sentence-transformers==2.4.0.dev0) (0.15.0)\n",
      "Requirement already satisfied: safetensors>=0.4.1 in d:\\softwares\\python311\\lib\\site-packages (from transformers<5.0.0,>=4.32.0->sentence-transformers==2.4.0.dev0) (0.4.1)\n",
      "Requirement already satisfied: joblib>=1.1.1 in d:\\softwares\\python311\\lib\\site-packages (from scikit-learn->sentence-transformers==2.4.0.dev0) (1.3.1)\n",
      "Requirement already satisfied: threadpoolctl>=2.0.0 in d:\\softwares\\python311\\lib\\site-packages (from scikit-learn->sentence-transformers==2.4.0.dev0) (3.2.0)\n",
      "Requirement already satisfied: MarkupSafe>=2.0 in d:\\softwares\\python311\\lib\\site-packages (from jinja2->torch>=1.11.0->sentence-transformers==2.4.0.dev0) (2.1.3)\n",
      "Requirement already satisfied: charset-normalizer<4,>=2 in d:\\softwares\\python311\\lib\\site-packages (from requests->huggingface-hub>=0.15.1->sentence-transformers==2.4.0.dev0) (3.3.2)\n",
      "Requirement already satisfied: idna<4,>=2.5 in d:\\softwares\\python311\\lib\\site-packages (from requests->huggingface-hub>=0.15.1->sentence-transformers==2.4.0.dev0) (3.4)\n",
      "Requirement already satisfied: urllib3<3,>=1.21.1 in d:\\softwares\\python311\\lib\\site-packages (from requests->huggingface-hub>=0.15.1->sentence-transformers==2.4.0.dev0) (2.0.7)\n",
      "Requirement already satisfied: certifi>=2017.4.17 in d:\\softwares\\python311\\lib\\site-packages (from requests->huggingface-hub>=0.15.1->sentence-transformers==2.4.0.dev0) (2023.7.22)\n",
      "Requirement already satisfied: mpmath>=0.19 in d:\\softwares\\python311\\lib\\site-packages (from sympy->torch>=1.11.0->sentence-transformers==2.4.0.dev0) (1.3.0)\n",
      "Requirement already satisfied: keybert in d:\\softwares\\python311\\lib\\site-packages (0.8.3)\n",
      "Requirement already satisfied: ctransformers in d:\\softwares\\python311\\lib\\site-packages (0.2.27)\n",
      "Requirement already satisfied: sentence-transformers>=0.3.8 in d:\\softwares\\python311\\lib\\site-packages (from keybert) (2.4.0.dev0)\n",
      "Requirement already satisfied: scikit-learn>=0.22.2 in d:\\softwares\\python311\\lib\\site-packages (from keybert) (1.3.0)\n",
      "Requirement already satisfied: numpy>=1.18.5 in d:\\softwares\\python311\\lib\\site-packages (from keybert) (1.25.2)\n",
      "Requirement already satisfied: rich>=10.4.0 in d:\\softwares\\python311\\lib\\site-packages (from keybert) (13.7.0)\n",
      "Requirement already satisfied: huggingface-hub in d:\\softwares\\python311\\lib\\site-packages (from ctransformers) (0.20.2)\n",
      "Requirement already satisfied: py-cpuinfo<10.0.0,>=9.0.0 in d:\\softwares\\python311\\lib\\site-packages (from ctransformers) (9.0.0)\n",
      "Requirement already satisfied: markdown-it-py>=2.2.0 in d:\\softwares\\python311\\lib\\site-packages (from rich>=10.4.0->keybert) (3.0.0)\n",
      "Requirement already satisfied: pygments<3.0.0,>=2.13.0 in c:\\users\\mohamed fazil z\\appdata\\roaming\\python\\python311\\site-packages (from rich>=10.4.0->keybert) (2.16.0)\n",
      "Requirement already satisfied: scipy>=1.5.0 in d:\\softwares\\python311\\lib\\site-packages (from scikit-learn>=0.22.2->keybert) (1.11.1)\n",
      "Requirement already satisfied: joblib>=1.1.1 in d:\\softwares\\python311\\lib\\site-packages (from scikit-learn>=0.22.2->keybert) (1.3.1)\n",
      "Requirement already satisfied: threadpoolctl>=2.0.0 in d:\\softwares\\python311\\lib\\site-packages (from scikit-learn>=0.22.2->keybert) (3.2.0)\n",
      "Requirement already satisfied: transformers<5.0.0,>=4.32.0 in d:\\softwares\\python311\\lib\\site-packages (from sentence-transformers>=0.3.8->keybert) (4.38.0.dev0)\n",
      "Requirement already satisfied: tqdm in d:\\softwares\\python311\\lib\\site-packages (from sentence-transformers>=0.3.8->keybert) (4.66.1)\n",
      "Requirement already satisfied: torch>=1.11.0 in d:\\softwares\\python311\\lib\\site-packages (from sentence-transformers>=0.3.8->keybert) (2.1.2)\n",
      "Requirement already satisfied: Pillow in d:\\softwares\\python311\\lib\\site-packages (from sentence-transformers>=0.3.8->keybert) (10.0.0)\n",
      "Requirement already satisfied: filelock in d:\\softwares\\python311\\lib\\site-packages (from huggingface-hub->ctransformers) (3.13.1)\n",
      "Requirement already satisfied: fsspec>=2023.5.0 in d:\\softwares\\python311\\lib\\site-packages (from huggingface-hub->ctransformers) (2023.12.2)\n",
      "Requirement already satisfied: requests in d:\\softwares\\python311\\lib\\site-packages (from huggingface-hub->ctransformers) (2.31.0)\n",
      "Requirement already satisfied: pyyaml>=5.1 in d:\\softwares\\python311\\lib\\site-packages (from huggingface-hub->ctransformers) (6.0.1)\n",
      "Requirement already satisfied: typing-extensions>=3.7.4.3 in d:\\softwares\\python311\\lib\\site-packages (from huggingface-hub->ctransformers) (4.7.1)\n",
      "Requirement already satisfied: packaging>=20.9 in d:\\softwares\\python311\\lib\\site-packages (from huggingface-hub->ctransformers) (23.1)\n",
      "Requirement already satisfied: mdurl~=0.1 in d:\\softwares\\python311\\lib\\site-packages (from markdown-it-py>=2.2.0->rich>=10.4.0->keybert) (0.1.2)\n",
      "Requirement already satisfied: sympy in d:\\softwares\\python311\\lib\\site-packages (from torch>=1.11.0->sentence-transformers>=0.3.8->keybert) (1.12)\n",
      "Requirement already satisfied: networkx in d:\\softwares\\python311\\lib\\site-packages (from torch>=1.11.0->sentence-transformers>=0.3.8->keybert) (3.2.1)\n",
      "Requirement already satisfied: jinja2 in d:\\softwares\\python311\\lib\\site-packages (from torch>=1.11.0->sentence-transformers>=0.3.8->keybert) (3.1.2)\n",
      "Requirement already satisfied: colorama in c:\\users\\mohamed fazil z\\appdata\\roaming\\python\\python311\\site-packages (from tqdm->sentence-transformers>=0.3.8->keybert) (0.4.6)\n",
      "Requirement already satisfied: regex!=2019.12.17 in d:\\softwares\\python311\\lib\\site-packages (from transformers<5.0.0,>=4.32.0->sentence-transformers>=0.3.8->keybert) (2023.12.25)\n",
      "Requirement already satisfied: tokenizers<0.19,>=0.14 in d:\\softwares\\python311\\lib\\site-packages (from transformers<5.0.0,>=4.32.0->sentence-transformers>=0.3.8->keybert) (0.15.0)\n",
      "Requirement already satisfied: safetensors>=0.4.1 in d:\\softwares\\python311\\lib\\site-packages (from transformers<5.0.0,>=4.32.0->sentence-transformers>=0.3.8->keybert) (0.4.1)\n",
      "Requirement already satisfied: charset-normalizer<4,>=2 in d:\\softwares\\python311\\lib\\site-packages (from requests->huggingface-hub->ctransformers) (3.3.2)\n",
      "Requirement already satisfied: idna<4,>=2.5 in d:\\softwares\\python311\\lib\\site-packages (from requests->huggingface-hub->ctransformers) (3.4)\n",
      "Requirement already satisfied: urllib3<3,>=1.21.1 in d:\\softwares\\python311\\lib\\site-packages (from requests->huggingface-hub->ctransformers) (2.0.7)\n",
      "Requirement already satisfied: certifi>=2017.4.17 in d:\\softwares\\python311\\lib\\site-packages (from requests->huggingface-hub->ctransformers) (2023.7.22)\n",
      "Requirement already satisfied: MarkupSafe>=2.0 in d:\\softwares\\python311\\lib\\site-packages (from jinja2->torch>=1.11.0->sentence-transformers>=0.3.8->keybert) (2.1.3)\n",
      "Requirement already satisfied: mpmath>=0.19 in d:\\softwares\\python311\\lib\\site-packages (from sympy->torch>=1.11.0->sentence-transformers>=0.3.8->keybert) (1.3.0)\n"
     ]
    },
    {
     "name": "stderr",
     "output_type": "stream",
     "text": [
      "\n",
      "[notice] A new release of pip is available: 23.1.2 -> 24.0\n",
      "[notice] To update, run: python.exe -m pip install --upgrade pip\n"
     ]
    },
    {
     "name": "stdout",
     "output_type": "stream",
     "text": [
      "Collecting git+https://github.com/huggingface/transformers\n",
      "  Cloning https://github.com/huggingface/transformers to c:\\users\\mohamed fazil z\\appdata\\local\\temp\\pip-req-build-3c02tnt3\n",
      "  Resolved https://github.com/huggingface/transformers to commit 3de6a6b4936229e3b4467dd7de1c24f2fae64528\n",
      "  Installing build dependencies: started\n",
      "  Installing build dependencies: finished with status 'done'\n",
      "  Getting requirements to build wheel: started\n",
      "  Getting requirements to build wheel: finished with status 'done'\n",
      "  Preparing metadata (pyproject.toml): started\n",
      "  Preparing metadata (pyproject.toml): finished with status 'done'\n",
      "Requirement already satisfied: filelock in d:\\softwares\\python311\\lib\\site-packages (from transformers==4.38.0.dev0) (3.13.1)\n",
      "Requirement already satisfied: huggingface-hub<1.0,>=0.19.3 in d:\\softwares\\python311\\lib\\site-packages (from transformers==4.38.0.dev0) (0.20.2)\n",
      "Requirement already satisfied: numpy>=1.17 in d:\\softwares\\python311\\lib\\site-packages (from transformers==4.38.0.dev0) (1.25.2)\n",
      "Requirement already satisfied: packaging>=20.0 in d:\\softwares\\python311\\lib\\site-packages (from transformers==4.38.0.dev0) (23.1)\n",
      "Requirement already satisfied: pyyaml>=5.1 in d:\\softwares\\python311\\lib\\site-packages (from transformers==4.38.0.dev0) (6.0.1)\n",
      "Requirement already satisfied: regex!=2019.12.17 in d:\\softwares\\python311\\lib\\site-packages (from transformers==4.38.0.dev0) (2023.12.25)\n",
      "Requirement already satisfied: requests in d:\\softwares\\python311\\lib\\site-packages (from transformers==4.38.0.dev0) (2.31.0)\n",
      "Requirement already satisfied: tokenizers<0.19,>=0.14 in d:\\softwares\\python311\\lib\\site-packages (from transformers==4.38.0.dev0) (0.15.0)\n",
      "Requirement already satisfied: safetensors>=0.4.1 in d:\\softwares\\python311\\lib\\site-packages (from transformers==4.38.0.dev0) (0.4.1)\n",
      "Requirement already satisfied: tqdm>=4.27 in d:\\softwares\\python311\\lib\\site-packages (from transformers==4.38.0.dev0) (4.66.1)\n",
      "Requirement already satisfied: fsspec>=2023.5.0 in d:\\softwares\\python311\\lib\\site-packages (from huggingface-hub<1.0,>=0.19.3->transformers==4.38.0.dev0) (2023.12.2)\n",
      "Requirement already satisfied: typing-extensions>=3.7.4.3 in d:\\softwares\\python311\\lib\\site-packages (from huggingface-hub<1.0,>=0.19.3->transformers==4.38.0.dev0) (4.7.1)\n",
      "Requirement already satisfied: colorama in c:\\users\\mohamed fazil z\\appdata\\roaming\\python\\python311\\site-packages (from tqdm>=4.27->transformers==4.38.0.dev0) (0.4.6)\n",
      "Requirement already satisfied: charset-normalizer<4,>=2 in d:\\softwares\\python311\\lib\\site-packages (from requests->transformers==4.38.0.dev0) (3.3.2)\n",
      "Requirement already satisfied: idna<4,>=2.5 in d:\\softwares\\python311\\lib\\site-packages (from requests->transformers==4.38.0.dev0) (3.4)\n",
      "Requirement already satisfied: urllib3<3,>=1.21.1 in d:\\softwares\\python311\\lib\\site-packages (from requests->transformers==4.38.0.dev0) (2.0.7)\n",
      "Requirement already satisfied: certifi>=2017.4.17 in d:\\softwares\\python311\\lib\\site-packages (from requests->transformers==4.38.0.dev0) (2023.7.22)\n"
     ]
    },
    {
     "name": "stderr",
     "output_type": "stream",
     "text": [
      "  Running command git clone --filter=blob:none --quiet https://github.com/huggingface/transformers 'C:\\Users\\Mohamed Fazil Z\\AppData\\Local\\Temp\\pip-req-build-3c02tnt3'\n",
      "\n",
      "[notice] A new release of pip is available: 23.1.2 -> 24.0\n",
      "[notice] To update, run: python.exe -m pip install --upgrade pip\n"
     ]
    }
   ],
   "source": [
    "# !pip install ctransformers\n",
    "!pip install --upgrade git+https://github.com/UKPLab/sentence-transformers\n",
    "!pip install keybert ctransformers\n",
    "!pip install --upgrade git+https://github.com/huggingface/transformers"
   ]
  },
  {
   "cell_type": "code",
   "execution_count": 1,
   "metadata": {},
   "outputs": [
    {
     "name": "stderr",
     "output_type": "stream",
     "text": [
      "d:\\Softwares\\Python311\\Lib\\site-packages\\tqdm\\auto.py:21: TqdmWarning: IProgress not found. Please update jupyter and ipywidgets. See https://ipywidgets.readthedocs.io/en/stable/user_install.html\n",
      "  from .autonotebook import tqdm as notebook_tqdm\n",
      "Fetching 1 files: 100%|██████████| 1/1 [00:00<00:00, 341.61it/s]\n",
      "Fetching 1 files: 100%|██████████| 1/1 [00:00<?, ?it/s]\n"
     ]
    }
   ],
   "source": [
    "from ctransformers import AutoModelForCausalLM\n",
    "\n",
    "# Set gpu_layers to the number of layers to offload to GPU. Set to 0 if no GPU acceleration is available on your system.\n",
    "model = AutoModelForCausalLM.from_pretrained(\n",
    "    \"TheBloke/Mistral-7B-Instruct-v0.1-GGUF\",\n",
    "    model_file=\"mistral-7b-instruct-v0.1.Q4_K_M.gguf\",\n",
    "    model_type=\"mistral\",\n",
    "    gpu_layers=0,\n",
    "    hf=True\n",
    ")\n",
    "\n",
    "from transformers import AutoTokenizer, pipeline\n",
    "\n",
    "# Tokenizer\n",
    "tokenizer = AutoTokenizer.from_pretrained(\"mistralai/Mistral-7B-Instruct-v0.1\")\n",
    "\n",
    "# Pipeline\n",
    "generator = pipeline(\n",
    "    model=model, tokenizer=tokenizer,\n",
    "    task='text-generation',\n",
    "    max_new_tokens=50,\n",
    "    repetition_penalty=1.1\n",
    ")"
   ]
  },
  {
   "cell_type": "code",
   "execution_count": 20,
   "metadata": {},
   "outputs": [],
   "source": [
    "from keybert.llm import TextGeneration\n",
    "from keybert import KeyLLM\n",
    "\n",
    "prompt = \"\"\"\n",
    "I have the following document:\n",
    "[DOCUMENT]\n",
    "\n",
    "Based on the information above, extract the keywords that best describe the topic of the text.\n",
    "Make sure to only extract keywords that appear in the text.\n",
    "Use the following format separated by commas:\n",
    "<keywords>\n",
    "\"\"\"\n",
    "\n",
    "# Load it in KeyLLM\n",
    "llm = TextGeneration(generator, prompt=prompt)\n",
    "kw_model = KeyLLM(llm)\n",
    "\n",
    "documents = [\n",
    "\"Discriminatory housing practices based on race, ethnicity, or socioeconomic status. Unsafe living conditions in public housing units due to lack of maintenance or repairs. Gentrification displacing long-term residents from their neighborhoods.\"\n",
    "]"
   ]
  },
  {
   "cell_type": "code",
   "execution_count": 25,
   "metadata": {},
   "outputs": [],
   "source": [
    "keywords1 = kw_model.extract_keywords(documents)"
   ]
  },
  {
   "cell_type": "code",
   "execution_count": 23,
   "metadata": {},
   "outputs": [],
   "source": [
    "keywords2 = kw_model.extract_keywords(documents, check_vocab=True)"
   ]
  },
  {
   "cell_type": "code",
   "execution_count": 26,
   "metadata": {},
   "outputs": [
    {
     "data": {
      "text/plain": [
       "[['<keywords> Discriminatory housing practices',\n",
       "  'unsafe living conditions',\n",
       "  'gentrification',\n",
       "  'displacement.']]"
      ]
     },
     "execution_count": 26,
     "metadata": {},
     "output_type": "execute_result"
    }
   ],
   "source": [
    "keywords1"
   ]
  },
  {
   "cell_type": "code",
   "execution_count": 24,
   "metadata": {},
   "outputs": [
    {
     "data": {
      "text/plain": [
       "[[]]"
      ]
     },
     "execution_count": 24,
     "metadata": {},
     "output_type": "execute_result"
    }
   ],
   "source": [
    "# used\n",
    "keywords2"
   ]
  }
 ],
 "metadata": {
  "kernelspec": {
   "display_name": "Python 3",
   "language": "python",
   "name": "python3"
  },
  "language_info": {
   "codemirror_mode": {
    "name": "ipython",
    "version": 3
   },
   "file_extension": ".py",
   "mimetype": "text/x-python",
   "name": "python",
   "nbconvert_exporter": "python",
   "pygments_lexer": "ipython3",
   "version": "3.11.4"
  }
 },
 "nbformat": 4,
 "nbformat_minor": 2
}

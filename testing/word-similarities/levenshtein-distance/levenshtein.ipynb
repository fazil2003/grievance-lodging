{
 "cells": [
  {
   "cell_type": "code",
   "execution_count": 1,
   "metadata": {},
   "outputs": [
    {
     "name": "stdout",
     "output_type": "stream",
     "text": [
      "Collecting levenshtein\n",
      "  Downloading Levenshtein-0.25.0-cp311-cp311-win_amd64.whl (98 kB)\n",
      "                                              0.0/98.5 kB ? eta -:--:--\n",
      "     ---------------------------------------- 98.5/98.5 kB 5.5 MB/s eta 0:00:00\n",
      "Collecting rapidfuzz<4.0.0,>=3.1.0 (from levenshtein)\n",
      "  Downloading rapidfuzz-3.6.1-cp311-cp311-win_amd64.whl (1.6 MB)\n",
      "                                              0.0/1.6 MB ? eta -:--:--\n",
      "     ---------------                          0.6/1.6 MB 13.1 MB/s eta 0:00:01\n",
      "     ------------------------------           1.2/1.6 MB 15.8 MB/s eta 0:00:01\n",
      "     ---------------------------------------  1.6/1.6 MB 14.8 MB/s eta 0:00:01\n",
      "     ---------------------------------------- 1.6/1.6 MB 10.4 MB/s eta 0:00:00\n",
      "Installing collected packages: rapidfuzz, levenshtein\n",
      "Successfully installed levenshtein-0.25.0 rapidfuzz-3.6.1\n"
     ]
    },
    {
     "name": "stderr",
     "output_type": "stream",
     "text": [
      "\n",
      "[notice] A new release of pip is available: 23.1.2 -> 24.0\n",
      "[notice] To update, run: python.exe -m pip install --upgrade pip\n"
     ]
    }
   ],
   "source": [
    "!pip install levenshtein"
   ]
  },
  {
   "cell_type": "code",
   "execution_count": 7,
   "metadata": {},
   "outputs": [
    {
     "data": {
      "text/plain": [
       "0.8571428571428572"
      ]
     },
     "execution_count": 7,
     "metadata": {},
     "output_type": "execute_result"
    }
   ],
   "source": [
    "from Levenshtein import ratio\n",
    "ratio(\"lewenstein\", \"levenshtein\")"
   ]
  }
 ],
 "metadata": {
  "kernelspec": {
   "display_name": "Python 3",
   "language": "python",
   "name": "python3"
  },
  "language_info": {
   "codemirror_mode": {
    "name": "ipython",
    "version": 3
   },
   "file_extension": ".py",
   "mimetype": "text/x-python",
   "name": "python",
   "nbconvert_exporter": "python",
   "pygments_lexer": "ipython3",
   "version": "3.11.4"
  }
 },
 "nbformat": 4,
 "nbformat_minor": 2
}
